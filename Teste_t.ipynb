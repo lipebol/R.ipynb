{
  "nbformat": 4,
  "nbformat_minor": 0,
  "metadata": {
    "colab": {
      "provenance": [],
      "collapsed_sections": [
        "BWhdAeNEdH8o",
        "xgTMNEoz3KSh",
        "PpXvhZfaRzS5",
        "Sy1RaOPKwJoK",
        "fV9rbt3Bz5Td",
        "F3op2Lr131lr",
        "Sj6KOONh7Ogy"
      ]
    },
    "kernelspec": {
      "name": "ir",
      "display_name": "R"
    },
    "language_info": {
      "name": "R"
    }
  },
  "cells": [
    {
      "cell_type": "markdown",
      "source": [
        "# **Teste-t (para uma amostra)**"
      ],
      "metadata": {
        "id": "VB7a8uk4eHt1"
      }
    },
    {
      "cell_type": "markdown",
      "source": [
        " **A média de altura da amostra coletada é diferente da média de altura nacional?**"
      ],
      "metadata": {
        "id": "Fb2MtDtnbubv"
      }
    },
    {
      "cell_type": "code",
      "execution_count": null,
      "metadata": {
        "id": "g0_iEe1WMo2_"
      },
      "outputs": [],
      "source": [
        "if(!require(dplyr))\n",
        "  install.packages(\"dplyr\")"
      ]
    },
    {
      "cell_type": "code",
      "source": [
        "setwd(\"/content/data\")"
      ],
      "metadata": {
        "id": "lk9A4alkQM3u"
      },
      "execution_count": null,
      "outputs": []
    },
    {
      "cell_type": "code",
      "source": [
        "dados = read.csv(\"db_Teste_t.csv\", sep = \";\", dec = \",\") #check.names = F"
      ],
      "metadata": {
        "id": "cULoL46MXhDU"
      },
      "execution_count": null,
      "outputs": []
    },
    {
      "cell_type": "code",
      "source": [
        "dados"
      ],
      "metadata": {
        "id": "yUFsMch8Z7Ly"
      },
      "execution_count": null,
      "outputs": []
    },
    {
      "cell_type": "code",
      "source": [
        "glimpse(dados)"
      ],
      "metadata": {
        "colab": {
          "base_uri": "https://localhost:8080/"
        },
        "id": "HfqQ6iuZbQXH",
        "outputId": "efb6572b-8505-48b0-c792-4d12a73eab3c"
      },
      "execution_count": null,
      "outputs": [
        {
          "output_type": "stream",
          "name": "stdout",
          "text": [
            "Rows: 30\n",
            "Columns: 7\n",
            "$ Sujeito           \u001b[3m\u001b[90m<int>\u001b[39m\u001b[23m 1, 2, 3, 4, 5, 6, 7, 8, 9, 10, 11, 12, 13, 14, 15, 1…\n",
            "$ Genero            \u001b[3m\u001b[90m<chr>\u001b[39m\u001b[23m \"M\", \"F\", \"M\", \"M\", \"F\", \"F\", \"M\", \"M\", \"M\", \"M\", \"F…\n",
            "$ Grau_de_Instrucao \u001b[3m\u001b[90m<chr>\u001b[39m\u001b[23m \"Superior\", \"Superior\", \"Superior\", \"Ensino Fundamen…\n",
            "$ N_Filhos          \u001b[3m\u001b[90m<int>\u001b[39m\u001b[23m 1, 0, 0, 0, 0, 2, 0, 0, 1, 2, 0, 3, 0, 0, 1, 1, 0, 0…\n",
            "$ Idade             \u001b[3m\u001b[90m<int>\u001b[39m\u001b[23m 31, 25, 33, 20, 23, 37, 38, 37, 34, 40, 41, 46, 26, …\n",
            "$ Altura            \u001b[3m\u001b[90m<int>\u001b[39m\u001b[23m 160, 160, 157, 163, 163, 155, 165, 168, 163, 170, 17…\n",
            "$ Salario           \u001b[3m\u001b[90m<dbl>\u001b[39m\u001b[23m 4.10, 2.65, 4.70, 1.45, 1.85, 2.20, 2.35, 2.70, 2.90…\n"
          ]
        }
      ]
    },
    {
      "cell_type": "markdown",
      "source": [
        "### **Teste de Normalidade (Shapiro Wilk)**"
      ],
      "metadata": {
        "id": "BWhdAeNEdH8o"
      }
    },
    {
      "cell_type": "code",
      "source": [
        "shapiro.test(dados$Altura)"
      ],
      "metadata": {
        "colab": {
          "base_uri": "https://localhost:8080/",
          "height": 104
        },
        "id": "huv4S8nyc4QB",
        "outputId": "ac53ab4f-e94f-4898-86d2-6ca1a8468c39"
      },
      "execution_count": null,
      "outputs": [
        {
          "output_type": "display_data",
          "data": {
            "text/plain": [
              "\n",
              "\tShapiro-Wilk normality test\n",
              "\n",
              "data:  dados$Altura\n",
              "W = 0.95384, p-value = 0.214\n"
            ]
          },
          "metadata": {}
        }
      ]
    },
    {
      "cell_type": "markdown",
      "source": [
        "### **Teste-t para uma amostra**"
      ],
      "metadata": {
        "id": "xgTMNEoz3KSh"
      }
    },
    {
      "cell_type": "code",
      "source": [
        "t.test(dados$Altura, mu = 167)"
      ],
      "metadata": {
        "colab": {
          "base_uri": "https://localhost:8080/",
          "height": 208
        },
        "id": "Qt-AkRI_dUFg",
        "outputId": "ebd46406-03b4-4435-c522-077a731ac356"
      },
      "execution_count": null,
      "outputs": [
        {
          "output_type": "display_data",
          "data": {
            "text/plain": [
              "\n",
              "\tOne Sample t-test\n",
              "\n",
              "data:  dados$Altura\n",
              "t = 0.70196, df = 29, p-value = 0.4883\n",
              "alternative hypothesis: true mean is not equal to 167\n",
              "95 percent confidence interval:\n",
              " 164.2572 172.6095\n",
              "sample estimates:\n",
              "mean of x \n",
              " 168.4333 \n"
            ]
          },
          "metadata": {}
        }
      ]
    },
    {
      "cell_type": "code",
      "source": [
        "boxplot(dados$Altura, ylab = \"Altura (cm)\")"
      ],
      "metadata": {
        "colab": {
          "base_uri": "https://localhost:8080/",
          "height": 437
        },
        "id": "o0kvDdZzy7DB",
        "outputId": "5f8ad2e7-8e61-429e-d208-1a2e16295a88"
      },
      "execution_count": null,
      "outputs": [
        {
          "output_type": "display_data",
          "data": {
            "text/plain": [
              "plot without title"
            ],
            "image/png": "[encoded data removed]"
          },
          "metadata": {
            "image/png": {
              "width": 420,
              "height": 420
            }
          }
        }
      ]
    },
    {
      "cell_type": "markdown",
      "source": [
        "***O Teste-t para uma amostra mostrou que a média da altura da amostra não é diferente da média da altura nacional\n",
        "(t(29) = 0,702; p = 0,488)***\n"
      ],
      "metadata": {
        "id": "T7u7cbQVKc9p"
      }
    },
    {
      "cell_type": "markdown",
      "source": [
        "# **Teste-t (para duas amostras independentes)**"
      ],
      "metadata": {
        "id": "PpXvhZfaRzS5"
      }
    },
    {
      "cell_type": "markdown",
      "source": [
        " **A posição que o aluno(a) ocupa na sala (\"Frente\" ou \"Fundos\") influencia em suas notas de Biologia, Física e História?**"
      ],
      "metadata": {
        "id": "_i7lBrYrUgky"
      }
    },
    {
      "cell_type": "code",
      "source": [
        "if(!require (dplyr))\n",
        "  install.packages(\"dplyr\")\n",
        "library(dplyr)\n",
        "\n",
        "if(!require (car))\n",
        "  install.packages(\"car\")\n",
        "library(car)\n",
        "\n",
        "# https://github.com/mixOmicsTeam/mixOmics\n",
        "if(!requireNamespace(\"BiocManager\", quietly = TRUE))\n",
        "    install.packages(\"BiocManager\")\n",
        "\n",
        "if(!require (mixOmics))\n",
        "    BiocManager::install('mixOmics')\n",
        "\n",
        "if(!require (RVAideMemoire))\n",
        "  install.packages(\"RVAideMemoire\")\n",
        "library(RVAideMemoire)"
      ],
      "metadata": {
        "id": "3ozff1MBTOZg"
      },
      "execution_count": null,
      "outputs": []
    },
    {
      "cell_type": "code",
      "source": [
        "setwd(\"/content/data\")"
      ],
      "metadata": {
        "id": "_WXt715nWHPj"
      },
      "execution_count": null,
      "outputs": []
    },
    {
      "cell_type": "code",
      "source": [
        "dados = read.csv2(\"db_Teste_t2.csv\")"
      ],
      "metadata": {
        "id": "a4hpE4VBXqin"
      },
      "execution_count": null,
      "outputs": []
    },
    {
      "cell_type": "code",
      "source": [
        "head(dados)"
      ],
      "metadata": {
        "colab": {
          "base_uri": "https://localhost:8080/",
          "height": 286
        },
        "id": "Z1vd34e-vTdF",
        "outputId": "e425fe35-0cda-4faf-dc8b-e4acdf992fe4"
      },
      "execution_count": null,
      "outputs": [
        {
          "output_type": "display_data",
          "data": {
            "text/html": [
              "<table class=\"dataframe\">\n",
              "<caption>A data.frame: 6 × 7</caption>\n",
              "<thead>\n",
              "\t<tr><th></th><th scope=col>Sujeito</th><th scope=col>Genero</th><th scope=col>Escola</th><th scope=col>Posicao_Sala</th><th scope=col>Nota_Biol</th><th scope=col>Nota_Fis</th><th scope=col>Nota_Hist</th></tr>\n",
              "\t<tr><th></th><th scope=col>&lt;int&gt;</th><th scope=col>&lt;chr&gt;</th><th scope=col>&lt;chr&gt;</th><th scope=col>&lt;chr&gt;</th><th scope=col>&lt;dbl&gt;</th><th scope=col>&lt;dbl&gt;</th><th scope=col>&lt;dbl&gt;</th></tr>\n",
              "</thead>\n",
              "<tbody>\n",
              "\t<tr><th scope=row>1</th><td>1</td><td>M</td><td>Privada</td><td>Fundos</td><td>8.1</td><td>4.6</td><td>2.9</td></tr>\n",
              "\t<tr><th scope=row>2</th><td>2</td><td>F</td><td>Privada</td><td>Fundos</td><td>5.3</td><td>4.9</td><td>6.4</td></tr>\n",
              "\t<tr><th scope=row>3</th><td>3</td><td>M</td><td>Publica</td><td>Fundos</td><td>2.9</td><td>3.7</td><td>3.1</td></tr>\n",
              "\t<tr><th scope=row>4</th><td>4</td><td>M</td><td>Publica</td><td>Fundos</td><td>3.7</td><td>3.8</td><td>4.9</td></tr>\n",
              "\t<tr><th scope=row>5</th><td>5</td><td>F</td><td>Publica</td><td>Fundos</td><td>4.4</td><td>4.2</td><td>4.9</td></tr>\n",
              "\t<tr><th scope=row>6</th><td>6</td><td>F</td><td>Publica</td><td>Fundos</td><td>4.7</td><td>4.9</td><td>5.5</td></tr>\n",
              "</tbody>\n",
              "</table>\n"
            ],
            "text/markdown": "\nA data.frame: 6 × 7\n\n| <!--/--> | Sujeito &lt;int&gt; | Genero &lt;chr&gt; | Escola &lt;chr&gt; | Posicao_Sala &lt;chr&gt; | Nota_Biol &lt;dbl&gt; | Nota_Fis &lt;dbl&gt; | Nota_Hist &lt;dbl&gt; |\n|---|---|---|---|---|---|---|---|\n| 1 | 1 | M | Privada | Fundos | 8.1 | 4.6 | 2.9 |\n| 2 | 2 | F | Privada | Fundos | 5.3 | 4.9 | 6.4 |\n| 3 | 3 | M | Publica | Fundos | 2.9 | 3.7 | 3.1 |\n| 4 | 4 | M | Publica | Fundos | 3.7 | 3.8 | 4.9 |\n| 5 | 5 | F | Publica | Fundos | 4.4 | 4.2 | 4.9 |\n| 6 | 6 | F | Publica | Fundos | 4.7 | 4.9 | 5.5 |\n\n",
            "text/latex": "A data.frame: 6 × 7\n\\begin{tabular}{r|lllllll}\n  & Sujeito & Genero & Escola & Posicao\\_Sala & Nota\\_Biol & Nota\\_Fis & Nota\\_Hist\\\\\n  & <int> & <chr> & <chr> & <chr> & <dbl> & <dbl> & <dbl>\\\\\n\\hline\n\t1 & 1 & M & Privada & Fundos & 8.1 & 4.6 & 2.9\\\\\n\t2 & 2 & F & Privada & Fundos & 5.3 & 4.9 & 6.4\\\\\n\t3 & 3 & M & Publica & Fundos & 2.9 & 3.7 & 3.1\\\\\n\t4 & 4 & M & Publica & Fundos & 3.7 & 3.8 & 4.9\\\\\n\t5 & 5 & F & Publica & Fundos & 4.4 & 4.2 & 4.9\\\\\n\t6 & 6 & F & Publica & Fundos & 4.7 & 4.9 & 5.5\\\\\n\\end{tabular}\n",
            "text/plain": [
              "  Sujeito Genero Escola  Posicao_Sala Nota_Biol Nota_Fis Nota_Hist\n",
              "1 1       M      Privada Fundos       8.1       4.6      2.9      \n",
              "2 2       F      Privada Fundos       5.3       4.9      6.4      \n",
              "3 3       M      Publica Fundos       2.9       3.7      3.1      \n",
              "4 4       M      Publica Fundos       3.7       3.8      4.9      \n",
              "5 5       F      Publica Fundos       4.4       4.2      4.9      \n",
              "6 6       F      Publica Fundos       4.7       4.9      5.5      "
            ]
          },
          "metadata": {}
        }
      ]
    },
    {
      "cell_type": "code",
      "source": [
        "glimpse(dados)"
      ],
      "metadata": {
        "colab": {
          "base_uri": "https://localhost:8080/"
        },
        "id": "5vbpUCgtvV-x",
        "outputId": "11d25e6a-833a-43d6-95f0-820a3a642027"
      },
      "execution_count": null,
      "outputs": [
        {
          "output_type": "stream",
          "name": "stdout",
          "text": [
            "Rows: 32\n",
            "Columns: 7\n",
            "$ Sujeito      \u001b[3m\u001b[90m<int>\u001b[39m\u001b[23m 1, 2, 3, 4, 5, 6, 7, 8, 9, 10, 11, 12, 13, 14, 15, 16, 17…\n",
            "$ Genero       \u001b[3m\u001b[90m<chr>\u001b[39m\u001b[23m \"M\", \"F\", \"M\", \"M\", \"F\", \"F\", \"M\", \"M\", \"M\", \"M\", \"F\", \"F…\n",
            "$ Escola       \u001b[3m\u001b[90m<chr>\u001b[39m\u001b[23m \"Privada\", \"Privada\", \"Publica\", \"Publica\", \"Publica\", \"P…\n",
            "$ Posicao_Sala \u001b[3m\u001b[90m<chr>\u001b[39m\u001b[23m \"Fundos\", \"Fundos\", \"Fundos\", \"Fundos\", \"Fundos\", \"Fundos…\n",
            "$ Nota_Biol    \u001b[3m\u001b[90m<dbl>\u001b[39m\u001b[23m 8.1, 5.3, 2.9, 3.7, 4.4, 4.7, 5.4, 5.8, 3.1, 6.0, 2.0, 3.…\n",
            "$ Nota_Fis     \u001b[3m\u001b[90m<dbl>\u001b[39m\u001b[23m 4.6, 4.9, 3.7, 3.8, 4.2, 4.9, 6.4, 6.8, 4.1, 6.9, 3.4, 3.…\n",
            "$ Nota_Hist    \u001b[3m\u001b[90m<dbl>\u001b[39m\u001b[23m 2.9, 6.4, 3.1, 4.9, 4.9, 5.5, 7.4, 8.1, 3.3, 8.3, 2.3, 3.…\n"
          ]
        }
      ]
    },
    {
      "cell_type": "markdown",
      "source": [
        "### **Teste de Normalidade (Shapiro Wilk) por grupo**"
      ],
      "metadata": {
        "id": "Sy1RaOPKwJoK"
      }
    },
    {
      "cell_type": "code",
      "source": [
        "byf.shapiro(Nota_Biol ~ Posicao_Sala, dados)"
      ],
      "metadata": {
        "colab": {
          "base_uri": "https://localhost:8080/",
          "height": 191
        },
        "id": "PGbRxV1Ovyp3",
        "outputId": "0a8c49d9-baa5-49fc-fe2a-5d2c7ef56bb7"
      },
      "execution_count": null,
      "outputs": [
        {
          "output_type": "display_data",
          "data": {
            "text/plain": [
              "\n",
              "\tShapiro-Wilk normality tests\n",
              "\n",
              "data:  Nota_Biol by Posicao_Sala \n",
              "\n",
              "            W p-value  \n",
              "Frente 0.9852 0.99312  \n",
              "Fundos 0.9003 0.06865 .\n",
              "---\n",
              "Signif. codes:  0 ‘***’ 0.001 ‘**’ 0.01 ‘*’ 0.05 ‘.’ 0.1 ‘ ’ 1\n"
            ]
          },
          "metadata": {}
        }
      ]
    },
    {
      "cell_type": "code",
      "source": [
        "byf.shapiro(Nota_Fis ~ Posicao_Sala, dados)"
      ],
      "metadata": {
        "colab": {
          "base_uri": "https://localhost:8080/",
          "height": 156
        },
        "id": "Pxx9HeCayEh-",
        "outputId": "d96a5b67-4742-4e56-eecb-b052b8d4a516"
      },
      "execution_count": null,
      "outputs": [
        {
          "output_type": "display_data",
          "data": {
            "text/plain": [
              "\n",
              "\tShapiro-Wilk normality tests\n",
              "\n",
              "data:  Nota_Fis by Posicao_Sala \n",
              "\n",
              "            W p-value\n",
              "Frente 0.9327  0.2992\n",
              "Fundos 0.9301  0.2186\n"
            ]
          },
          "metadata": {}
        }
      ]
    },
    {
      "cell_type": "code",
      "source": [
        "byf.shapiro(Nota_Hist ~ Posicao_Sala, dados)"
      ],
      "metadata": {
        "colab": {
          "base_uri": "https://localhost:8080/",
          "height": 191
        },
        "id": "uAxelgAsy5Cq",
        "outputId": "6d0ab24c-5085-4f4f-95ea-99c1c4e63d92"
      },
      "execution_count": null,
      "outputs": [
        {
          "output_type": "display_data",
          "data": {
            "text/plain": [
              "\n",
              "\tShapiro-Wilk normality tests\n",
              "\n",
              "data:  Nota_Hist by Posicao_Sala \n",
              "\n",
              "            W p-value  \n",
              "Frente 0.8936 0.07594 .\n",
              "Fundos 0.9168 0.13056  \n",
              "---\n",
              "Signif. codes:  0 ‘***’ 0.001 ‘**’ 0.01 ‘*’ 0.05 ‘.’ 0.1 ‘ ’ 1\n"
            ]
          },
          "metadata": {}
        }
      ]
    },
    {
      "cell_type": "markdown",
      "source": [
        "### **Teste de Homogeneidade (Levene)**"
      ],
      "metadata": {
        "id": "fV9rbt3Bz5Td"
      }
    },
    {
      "cell_type": "code",
      "source": [
        "leveneTest(Nota_Biol ~ Posicao_Sala, dados, center = mean)"
      ],
      "metadata": {
        "colab": {
          "base_uri": "https://localhost:8080/",
          "height": 196
        },
        "id": "os4G-HMC1fQX",
        "outputId": "00f5b38b-83ef-4c0c-e88a-391926aaf80d"
      },
      "execution_count": null,
      "outputs": [
        {
          "output_type": "stream",
          "name": "stderr",
          "text": [
            "Warning message in leveneTest.default(y = y, group = group, ...):\n",
            "“group coerced to factor.”\n"
          ]
        },
        {
          "output_type": "display_data",
          "data": {
            "text/html": [
              "<table class=\"dataframe\">\n",
              "<caption>A anova: 2 × 3</caption>\n",
              "<thead>\n",
              "\t<tr><th></th><th scope=col>Df</th><th scope=col>F value</th><th scope=col>Pr(&gt;F)</th></tr>\n",
              "\t<tr><th></th><th scope=col>&lt;int&gt;</th><th scope=col>&lt;dbl&gt;</th><th scope=col>&lt;dbl&gt;</th></tr>\n",
              "</thead>\n",
              "<tbody>\n",
              "\t<tr><th scope=row>group</th><td> 1</td><td>1.035913</td><td>0.3169124</td></tr>\n",
              "\t<tr><th scope=row> </th><td>30</td><td>      NA</td><td>       NA</td></tr>\n",
              "</tbody>\n",
              "</table>\n"
            ],
            "text/markdown": "\nA anova: 2 × 3\n\n| <!--/--> | Df &lt;int&gt; | F value &lt;dbl&gt; | Pr(&gt;F) &lt;dbl&gt; |\n|---|---|---|---|\n| group |  1 | 1.035913 | 0.3169124 |\n| <!----> | 30 |       NA |        NA |\n\n",
            "text/latex": "A anova: 2 × 3\n\\begin{tabular}{r|lll}\n  & Df & F value & Pr(>F)\\\\\n  & <int> & <dbl> & <dbl>\\\\\n\\hline\n\tgroup &  1 & 1.035913 & 0.3169124\\\\\n\t  & 30 &       NA &        NA\\\\\n\\end{tabular}\n",
            "text/plain": [
              "      Df F value  Pr(>F)   \n",
              "group  1 1.035913 0.3169124\n",
              "      30       NA        NA"
            ]
          },
          "metadata": {}
        }
      ]
    },
    {
      "cell_type": "code",
      "source": [
        "leveneTest(Nota_Fis ~ Posicao_Sala, dados, center = mean) # Não são Homogêneas"
      ],
      "metadata": {
        "colab": {
          "base_uri": "https://localhost:8080/",
          "height": 196
        },
        "id": "2RAGyOrR1jOL",
        "outputId": "519f7bff-1063-4fdc-9589-4aeba55ceada"
      },
      "execution_count": null,
      "outputs": [
        {
          "output_type": "stream",
          "name": "stderr",
          "text": [
            "Warning message in leveneTest.default(y = y, group = group, ...):\n",
            "“group coerced to factor.”\n"
          ]
        },
        {
          "output_type": "display_data",
          "data": {
            "text/html": [
              "<table class=\"dataframe\">\n",
              "<caption>A anova: 2 × 3</caption>\n",
              "<thead>\n",
              "\t<tr><th></th><th scope=col>Df</th><th scope=col>F value</th><th scope=col>Pr(&gt;F)</th></tr>\n",
              "\t<tr><th></th><th scope=col>&lt;int&gt;</th><th scope=col>&lt;dbl&gt;</th><th scope=col>&lt;dbl&gt;</th></tr>\n",
              "</thead>\n",
              "<tbody>\n",
              "\t<tr><th scope=row>group</th><td> 1</td><td>13.65752</td><td>0.0008749004</td></tr>\n",
              "\t<tr><th scope=row> </th><td>30</td><td>      NA</td><td>          NA</td></tr>\n",
              "</tbody>\n",
              "</table>\n"
            ],
            "text/markdown": "\nA anova: 2 × 3\n\n| <!--/--> | Df &lt;int&gt; | F value &lt;dbl&gt; | Pr(&gt;F) &lt;dbl&gt; |\n|---|---|---|---|\n| group |  1 | 13.65752 | 0.0008749004 |\n| <!----> | 30 |       NA |           NA |\n\n",
            "text/latex": "A anova: 2 × 3\n\\begin{tabular}{r|lll}\n  & Df & F value & Pr(>F)\\\\\n  & <int> & <dbl> & <dbl>\\\\\n\\hline\n\tgroup &  1 & 13.65752 & 0.0008749004\\\\\n\t  & 30 &       NA &           NA\\\\\n\\end{tabular}\n",
            "text/plain": [
              "      Df F value  Pr(>F)      \n",
              "group  1 13.65752 0.0008749004\n",
              "      30       NA           NA"
            ]
          },
          "metadata": {}
        }
      ]
    },
    {
      "cell_type": "code",
      "source": [
        "leveneTest(Nota_Hist ~ Posicao_Sala, dados, center = mean) # Não são Homogêneas"
      ],
      "metadata": {
        "colab": {
          "base_uri": "https://localhost:8080/",
          "height": 196
        },
        "id": "qWDPjkvX1sQj",
        "outputId": "2f39bf8b-ee00-490e-a3a0-78518abc6410"
      },
      "execution_count": null,
      "outputs": [
        {
          "output_type": "stream",
          "name": "stderr",
          "text": [
            "Warning message in leveneTest.default(y = y, group = group, ...):\n",
            "“group coerced to factor.”\n"
          ]
        },
        {
          "output_type": "display_data",
          "data": {
            "text/html": [
              "<table class=\"dataframe\">\n",
              "<caption>A anova: 2 × 3</caption>\n",
              "<thead>\n",
              "\t<tr><th></th><th scope=col>Df</th><th scope=col>F value</th><th scope=col>Pr(&gt;F)</th></tr>\n",
              "\t<tr><th></th><th scope=col>&lt;int&gt;</th><th scope=col>&lt;dbl&gt;</th><th scope=col>&lt;dbl&gt;</th></tr>\n",
              "</thead>\n",
              "<tbody>\n",
              "\t<tr><th scope=row>group</th><td> 1</td><td>14.2921</td><td>0.0006954296</td></tr>\n",
              "\t<tr><th scope=row> </th><td>30</td><td>     NA</td><td>          NA</td></tr>\n",
              "</tbody>\n",
              "</table>\n"
            ],
            "text/markdown": "\nA anova: 2 × 3\n\n| <!--/--> | Df &lt;int&gt; | F value &lt;dbl&gt; | Pr(&gt;F) &lt;dbl&gt; |\n|---|---|---|---|\n| group |  1 | 14.2921 | 0.0006954296 |\n| <!----> | 30 |      NA |           NA |\n\n",
            "text/latex": "A anova: 2 × 3\n\\begin{tabular}{r|lll}\n  & Df & F value & Pr(>F)\\\\\n  & <int> & <dbl> & <dbl>\\\\\n\\hline\n\tgroup &  1 & 14.2921 & 0.0006954296\\\\\n\t  & 30 &      NA &           NA\\\\\n\\end{tabular}\n",
            "text/plain": [
              "      Df F value Pr(>F)      \n",
              "group  1 14.2921 0.0006954296\n",
              "      30      NA           NA"
            ]
          },
          "metadata": {}
        }
      ]
    },
    {
      "cell_type": "markdown",
      "source": [
        "### **Teste-t para amostras independentes**"
      ],
      "metadata": {
        "id": "F3op2Lr131lr"
      }
    },
    {
      "cell_type": "code",
      "source": [
        "t.test(Nota_Biol ~ Posicao_Sala, dados, var.equal = TRUE)"
      ],
      "metadata": {
        "colab": {
          "base_uri": "https://localhost:8080/",
          "height": 208
        },
        "id": "gh9ZJsyM1ugC",
        "outputId": "fb29c877-6345-4cb4-ba46-b79dd1141c06"
      },
      "execution_count": null,
      "outputs": [
        {
          "output_type": "display_data",
          "data": {
            "text/plain": [
              "\n",
              "\tTwo Sample t-test\n",
              "\n",
              "data:  Nota_Biol by Posicao_Sala\n",
              "t = 4.6027, df = 30, p-value = 7.136e-05\n",
              "alternative hypothesis: true difference in means between group Frente and group Fundos is not equal to 0\n",
              "95 percent confidence interval:\n",
              " 1.411664 3.663630\n",
              "sample estimates:\n",
              "mean in group Frente mean in group Fundos \n",
              "            6.520000             3.982353 \n"
            ]
          },
          "metadata": {}
        }
      ]
    },
    {
      "cell_type": "code",
      "source": [
        "t.test(Nota_Fis ~ Posicao_Sala, dados, var.equal = FALSE)"
      ],
      "metadata": {
        "colab": {
          "base_uri": "https://localhost:8080/",
          "height": 208
        },
        "id": "OntcmvdU4oui",
        "outputId": "91fe80ca-978d-436a-900b-fb71c60777ba"
      },
      "execution_count": null,
      "outputs": [
        {
          "output_type": "display_data",
          "data": {
            "text/plain": [
              "\n",
              "\tWelch Two Sample t-test\n",
              "\n",
              "data:  Nota_Fis by Posicao_Sala\n",
              "t = 4.4352, df = 17.683, p-value = 0.0003324\n",
              "alternative hypothesis: true difference in means between group Frente and group Fundos is not equal to 0\n",
              "95 percent confidence interval:\n",
              " 1.342070 3.763812\n",
              "sample estimates:\n",
              "mean in group Frente mean in group Fundos \n",
              "            6.600000             4.047059 \n"
            ]
          },
          "metadata": {}
        }
      ]
    },
    {
      "cell_type": "code",
      "source": [
        "t.test(Nota_Hist ~ Posicao_Sala, dados, var.equal = FALSE)"
      ],
      "metadata": {
        "colab": {
          "base_uri": "https://localhost:8080/",
          "height": 208
        },
        "id": "GdbkOZQx4u9S",
        "outputId": "304f8364-946a-42db-8e5a-c0be009d1d37"
      },
      "execution_count": null,
      "outputs": [
        {
          "output_type": "display_data",
          "data": {
            "text/plain": [
              "\n",
              "\tWelch Two Sample t-test\n",
              "\n",
              "data:  Nota_Hist by Posicao_Sala\n",
              "t = 1.5737, df = 19.909, p-value = 0.1313\n",
              "alternative hypothesis: true difference in means between group Frente and group Fundos is not equal to 0\n",
              "95 percent confidence interval:\n",
              " -0.3860238  2.7546513\n",
              "sample estimates:\n",
              "mean in group Frente mean in group Fundos \n",
              "            5.466667             4.282353 \n"
            ]
          },
          "metadata": {}
        }
      ]
    },
    {
      "cell_type": "markdown",
      "source": [
        "### **Visualização da Distribuição dos Dados**"
      ],
      "metadata": {
        "id": "Sj6KOONh7Ogy"
      }
    },
    {
      "cell_type": "code",
      "source": [
        "par(mfrow = c(1, 3))\n",
        "\n",
        "boxplot(dados$Nota_Biol ~ dados$Posicao_Sala, \n",
        "        ylab = \"Notas de Biologia\",\n",
        "        xlab = \"Posição na Sala\"\n",
        ")\n",
        "\n",
        "boxplot(dados$Nota_Fis ~ dados$Posicao_Sala, \n",
        "        ylab = \"Notas de Biologia\",\n",
        "        xlab = \"Posição na Sala\"\n",
        ")\n",
        "\n",
        "boxplot(dados$Nota_Hist ~ dados$Posicao_Sala, \n",
        "        ylab = \"Notas de Biologia\",\n",
        "        xlab = \"Posição na Sala\"\n",
        ")\n"
      ],
      "metadata": {
        "colab": {
          "base_uri": "https://localhost:8080/",
          "height": 437
        },
        "id": "m091lOlT7eLZ",
        "outputId": "d05e001f-e7be-413f-dc23-3f311d05be39"
      },
      "execution_count": null,
      "outputs": [
        {
          "output_type": "display_data",
          "data": {
            "text/plain": [
              "plot without title"
            ],
            "image/png": "[encoded data removed]"
          },
          "metadata": {
            "image/png": {
              "width": 420,
              "height": 420
            }
          }
        }
      ]
    },
    {
      "cell_type": "markdown",
      "source": [
        "***O Teste-t para duas amostras independentes mostrou que há efeito da posição na sala sobre a \"Nota de Física\" (t(17,68) = 4,44; p < 0,001), e sobre a \"Nota de Biologia\" (t(30) = 4,60; p < 0,001).\n",
        "O grupo que senta na frente da sala apresentou, em média, notas de Física e Biologia superiores às do grupo que senta nos fundos da sala.***"
      ],
      "metadata": {
        "id": "wJ67X1Vs9015"
      }
    },
    {
      "cell_type": "markdown",
      "source": [
        "# **Teste-t pareado**"
      ],
      "metadata": {
        "id": "aESe51qmhcVC"
      }
    },
    {
      "cell_type": "markdown",
      "source": [
        " **Há diferença no número de convulsões por dia de cada indivíduo antes do tratamento e na primeira semana de tratamento?**"
      ],
      "metadata": {
        "id": "K4wQ8wvdhpd1"
      }
    },
    {
      "cell_type": "code",
      "source": [
        "if(!require (dplyr))\n",
        "    install.packages(\"dplyr\")\n",
        "library(dplyr)\n",
        "\n",
        "if(!require (psych))\n",
        "    install.packages(\"psych\")\n",
        "library(psych)"
      ],
      "metadata": {
        "id": "TwhrujLdhfWo"
      },
      "execution_count": null,
      "outputs": []
    },
    {
      "cell_type": "code",
      "source": [
        "setwd(\"/content/data\")"
      ],
      "metadata": {
        "id": "503v4gWgiZiE"
      },
      "execution_count": null,
      "outputs": []
    },
    {
      "cell_type": "code",
      "source": [
        "dados = read.csv2(\"db_Teste_t3.csv\")"
      ],
      "metadata": {
        "id": "viuYb9JijXzI"
      },
      "execution_count": null,
      "outputs": []
    },
    {
      "cell_type": "code",
      "source": [
        "head(dados)"
      ],
      "metadata": {
        "colab": {
          "base_uri": "https://localhost:8080/",
          "height": 286
        },
        "id": "Gde13AQEjpKy",
        "outputId": "48af8e82-88e8-4aa0-cd20-ba6b36ee2b80"
      },
      "execution_count": null,
      "outputs": [
        {
          "output_type": "display_data",
          "data": {
            "text/html": [
              "<table class=\"dataframe\">\n",
              "<caption>A data.frame: 6 × 7</caption>\n",
              "<thead>\n",
              "\t<tr><th></th><th scope=col>ID_Paciente</th><th scope=col>ID_Medico</th><th scope=col>Genero</th><th scope=col>Data_Nasc</th><th scope=col>Convulsoes_PT</th><th scope=col>Convulsoes_S1</th><th scope=col>Convulsoes_S6</th></tr>\n",
              "\t<tr><th></th><th scope=col>&lt;chr&gt;</th><th scope=col>&lt;chr&gt;</th><th scope=col>&lt;chr&gt;</th><th scope=col>&lt;chr&gt;</th><th scope=col>&lt;int&gt;</th><th scope=col>&lt;int&gt;</th><th scope=col>&lt;int&gt;</th></tr>\n",
              "</thead>\n",
              "<tbody>\n",
              "\t<tr><th scope=row>1</th><td>382 </td><td>HQQS</td><td>Masculino</td><td>11/25/1967</td><td>3</td><td>3</td><td>3</td></tr>\n",
              "\t<tr><th scope=row>2</th><td>06YO</td><td>IKGU</td><td>Masculino</td><td>08/16/1967</td><td>4</td><td>5</td><td>4</td></tr>\n",
              "\t<tr><th scope=row>3</th><td>07GL</td><td>VLDP</td><td>Masculino</td><td>01/22/1972</td><td>3</td><td>1</td><td>2</td></tr>\n",
              "\t<tr><th scope=row>4</th><td>07IT</td><td>SRKQ</td><td>Masculino</td><td>02/17/1987</td><td>7</td><td>7</td><td>4</td></tr>\n",
              "\t<tr><th scope=row>5</th><td>827 </td><td>WGSX</td><td>Feminino </td><td>02/09/1956</td><td>1</td><td>3</td><td>3</td></tr>\n",
              "\t<tr><th scope=row>6</th><td>885 </td><td>QYJV</td><td>Masculino</td><td>07/21/1960</td><td>4</td><td>1</td><td>1</td></tr>\n",
              "</tbody>\n",
              "</table>\n"
            ],
            "text/markdown": "\nA data.frame: 6 × 7\n\n| <!--/--> | ID_Paciente &lt;chr&gt; | ID_Medico &lt;chr&gt; | Genero &lt;chr&gt; | Data_Nasc &lt;chr&gt; | Convulsoes_PT &lt;int&gt; | Convulsoes_S1 &lt;int&gt; | Convulsoes_S6 &lt;int&gt; |\n|---|---|---|---|---|---|---|---|\n| 1 | 382  | HQQS | Masculino | 11/25/1967 | 3 | 3 | 3 |\n| 2 | 06YO | IKGU | Masculino | 08/16/1967 | 4 | 5 | 4 |\n| 3 | 07GL | VLDP | Masculino | 01/22/1972 | 3 | 1 | 2 |\n| 4 | 07IT | SRKQ | Masculino | 02/17/1987 | 7 | 7 | 4 |\n| 5 | 827  | WGSX | Feminino  | 02/09/1956 | 1 | 3 | 3 |\n| 6 | 885  | QYJV | Masculino | 07/21/1960 | 4 | 1 | 1 |\n\n",
            "text/latex": "A data.frame: 6 × 7\n\\begin{tabular}{r|lllllll}\n  & ID\\_Paciente & ID\\_Medico & Genero & Data\\_Nasc & Convulsoes\\_PT & Convulsoes\\_S1 & Convulsoes\\_S6\\\\\n  & <chr> & <chr> & <chr> & <chr> & <int> & <int> & <int>\\\\\n\\hline\n\t1 & 382  & HQQS & Masculino & 11/25/1967 & 3 & 3 & 3\\\\\n\t2 & 06YO & IKGU & Masculino & 08/16/1967 & 4 & 5 & 4\\\\\n\t3 & 07GL & VLDP & Masculino & 01/22/1972 & 3 & 1 & 2\\\\\n\t4 & 07IT & SRKQ & Masculino & 02/17/1987 & 7 & 7 & 4\\\\\n\t5 & 827  & WGSX & Feminino  & 02/09/1956 & 1 & 3 & 3\\\\\n\t6 & 885  & QYJV & Masculino & 07/21/1960 & 4 & 1 & 1\\\\\n\\end{tabular}\n",
            "text/plain": [
              "  ID_Paciente ID_Medico Genero    Data_Nasc  Convulsoes_PT Convulsoes_S1\n",
              "1 382         HQQS      Masculino 11/25/1967 3             3            \n",
              "2 06YO        IKGU      Masculino 08/16/1967 4             5            \n",
              "3 07GL        VLDP      Masculino 01/22/1972 3             1            \n",
              "4 07IT        SRKQ      Masculino 02/17/1987 7             7            \n",
              "5 827         WGSX      Feminino  02/09/1956 1             3            \n",
              "6 885         QYJV      Masculino 07/21/1960 4             1            \n",
              "  Convulsoes_S6\n",
              "1 3            \n",
              "2 4            \n",
              "3 2            \n",
              "4 4            \n",
              "5 3            \n",
              "6 1            "
            ]
          },
          "metadata": {}
        }
      ]
    },
    {
      "cell_type": "code",
      "source": [
        "glimpse(dados)"
      ],
      "metadata": {
        "colab": {
          "base_uri": "https://localhost:8080/"
        },
        "id": "Bl7_LzV1jyGs",
        "outputId": "b4f1a62c-def6-4ca7-a069-b29756dcb463"
      },
      "execution_count": null,
      "outputs": [
        {
          "output_type": "stream",
          "name": "stdout",
          "text": [
            "Rows: 275\n",
            "Columns: 7\n",
            "$ ID_Paciente   \u001b[3m\u001b[90m<chr>\u001b[39m\u001b[23m \"382\", \"06YO\", \"07GL\", \"07IT\", \"827\", \"885\", \"968\", \"0GT…\n",
            "$ ID_Medico     \u001b[3m\u001b[90m<chr>\u001b[39m\u001b[23m \"HQQS\", \"IKGU\", \"VLDP\", \"SRKQ\", \"WGSX\", \"QYJV\", \"RCGB\", …\n",
            "$ Genero        \u001b[3m\u001b[90m<chr>\u001b[39m\u001b[23m \"Masculino\", \"Masculino\", \"Masculino\", \"Masculino\", \"Fem…\n",
            "$ Data_Nasc     \u001b[3m\u001b[90m<chr>\u001b[39m\u001b[23m \"11/25/1967\", \"08/16/1967\", \"01/22/1972\", \"02/17/1987\", …\n",
            "$ Convulsoes_PT \u001b[3m\u001b[90m<int>\u001b[39m\u001b[23m 3, 4, 3, 7, 1, 4, 3, 1, 6, 1, 1, 10, 1, 4, 4, 1, 1, 2, 7…\n",
            "$ Convulsoes_S1 \u001b[3m\u001b[90m<int>\u001b[39m\u001b[23m 3, 5, 1, 7, 3, 1, 6, 1, 4, 0, 4, 8, 3, 1, 8, 1, 1, 6, 4,…\n",
            "$ Convulsoes_S6 \u001b[3m\u001b[90m<int>\u001b[39m\u001b[23m 3, 4, 2, 4, 3, 1, 5, 2, 2, 0, 3, 7, 2, 1, 4, 3, 1, 3, 4,…\n"
          ]
        }
      ]
    },
    {
      "cell_type": "markdown",
      "source": [
        "### **Teste de Normalidade (Shapiro Wilk)**"
      ],
      "metadata": {
        "id": "I3G2l0Jy3RXo"
      }
    },
    {
      "cell_type": "code",
      "source": [
        "dados$DIFPT_S1 = dados$Convulsoes_PT - dados$Convulsoes_S1"
      ],
      "metadata": {
        "id": "paZ8mXiz3Yvq"
      },
      "execution_count": null,
      "outputs": []
    },
    {
      "cell_type": "code",
      "source": [
        "shapiro.test(dados$DIFPT_S1) # em casos de p <= 0,05, utilizar \"Teste de Wilcoxon\""
      ],
      "metadata": {
        "colab": {
          "base_uri": "https://localhost:8080/",
          "height": 104
        },
        "id": "yKvaOAYy33Xa",
        "outputId": "97b4b30b-cb99-41b5-d04a-0aea08e93c0b"
      },
      "execution_count": null,
      "outputs": [
        {
          "output_type": "display_data",
          "data": {
            "text/plain": [
              "\n",
              "\tShapiro-Wilk normality test\n",
              "\n",
              "data:  dados$DIFPT_S1\n",
              "W = 0.77534, p-value < 2.2e-16\n"
            ]
          },
          "metadata": {}
        }
      ]
    },
    {
      "cell_type": "markdown",
      "source": [
        "### **Teste-t pareado**"
      ],
      "metadata": {
        "id": "kG2Azr-j5H1P"
      }
    },
    {
      "cell_type": "code",
      "source": [
        "t.test(dados$Convulsoes_PT, dados$Convulsoes_S1, paired = TRUE)"
      ],
      "metadata": {
        "colab": {
          "base_uri": "https://localhost:8080/",
          "height": 208
        },
        "id": "bFEPhid34GEV",
        "outputId": "9e850571-55ba-435a-eef2-f91651b9f216"
      },
      "execution_count": null,
      "outputs": [
        {
          "output_type": "display_data",
          "data": {
            "text/plain": [
              "\n",
              "\tPaired t-test\n",
              "\n",
              "data:  dados$Convulsoes_PT and dados$Convulsoes_S1\n",
              "t = 3.6762, df = 274, p-value = 0.0002848\n",
              "alternative hypothesis: true mean difference is not equal to 0\n",
              "95 percent confidence interval:\n",
              " 0.5033362 1.6639366\n",
              "sample estimates:\n",
              "mean difference \n",
              "       1.083636 \n"
            ]
          },
          "metadata": {}
        }
      ]
    },
    {
      "cell_type": "markdown",
      "source": [
        "### **Estatística Descritiva**"
      ],
      "metadata": {
        "id": "ZQMwHJhx6BFG"
      }
    },
    {
      "cell_type": "code",
      "source": [
        "par(mfrow = c(1,2))\n",
        "boxplot(dados$Convulsoes_PT, ylab = \"Quantidade de Convulsões\", xlab = \"Pré Tratamento\")\n",
        "boxplot(dados$Convulsoes_S1, ylab = \"Quantidade de Convulsões\", xlab = \"Primeira Semana de Tratamento\")"
      ],
      "metadata": {
        "colab": {
          "base_uri": "https://localhost:8080/",
          "height": 437
        },
        "id": "W5T-X7Mq5Zbt",
        "outputId": "72632eca-c214-48a9-88cb-eecd7a464dc4"
      },
      "execution_count": null,
      "outputs": [
        {
          "output_type": "display_data",
          "data": {
            "text/plain": [
              "plot without title"
            ],
            "image/png": "[encoded data removed]"
          },
          "metadata": {
            "image/png": {
              "width": 420,
              "height": 420
            }
          }
        }
      ]
    },
    {
      "cell_type": "code",
      "source": [
        "summary(dados$Convulsoes_PT)"
      ],
      "metadata": {
        "colab": {
          "base_uri": "https://localhost:8080/",
          "height": 52
        },
        "id": "FqjEZb6r6ohE",
        "outputId": "71622088-a3c2-4b1b-878b-7e1b559fe2c9"
      },
      "execution_count": null,
      "outputs": [
        {
          "output_type": "display_data",
          "data": {
            "text/plain": [
              "   Min. 1st Qu.  Median    Mean 3rd Qu.    Max. \n",
              "  0.000   2.000   3.000   5.629   7.000  47.000 "
            ]
          },
          "metadata": {}
        }
      ]
    },
    {
      "cell_type": "code",
      "source": [
        "summary(dados$Convulsoes_S1)"
      ],
      "metadata": {
        "colab": {
          "base_uri": "https://localhost:8080/",
          "height": 52
        },
        "id": "lpRyI0xg7KnP",
        "outputId": "ae478282-2374-47a4-cbb7-ce71745ebd8d"
      },
      "execution_count": null,
      "outputs": [
        {
          "output_type": "display_data",
          "data": {
            "text/plain": [
              "   Min. 1st Qu.  Median    Mean 3rd Qu.    Max. \n",
              "  0.000   2.000   3.000   4.545   5.000  29.000 "
            ]
          },
          "metadata": {}
        }
      ]
    },
    {
      "cell_type": "code",
      "source": [
        "describe(dados$Convulsoes_PT)"
      ],
      "metadata": {
        "colab": {
          "base_uri": "https://localhost:8080/",
          "height": 149
        },
        "id": "B6grArbt7Oc4",
        "outputId": "778c7305-275f-46ab-ad4f-5fa079d2194e"
      },
      "execution_count": null,
      "outputs": [
        {
          "output_type": "display_data",
          "data": {
            "text/html": [
              "<table class=\"dataframe\">\n",
              "<caption>A psych: 1 × 13</caption>\n",
              "<thead>\n",
              "\t<tr><th></th><th scope=col>vars</th><th scope=col>n</th><th scope=col>mean</th><th scope=col>sd</th><th scope=col>median</th><th scope=col>trimmed</th><th scope=col>mad</th><th scope=col>min</th><th scope=col>max</th><th scope=col>range</th><th scope=col>skew</th><th scope=col>kurtosis</th><th scope=col>se</th></tr>\n",
              "\t<tr><th></th><th scope=col>&lt;dbl&gt;</th><th scope=col>&lt;dbl&gt;</th><th scope=col>&lt;dbl&gt;</th><th scope=col>&lt;dbl&gt;</th><th scope=col>&lt;dbl&gt;</th><th scope=col>&lt;dbl&gt;</th><th scope=col>&lt;dbl&gt;</th><th scope=col>&lt;dbl&gt;</th><th scope=col>&lt;dbl&gt;</th><th scope=col>&lt;dbl&gt;</th><th scope=col>&lt;dbl&gt;</th><th scope=col>&lt;dbl&gt;</th><th scope=col>&lt;dbl&gt;</th></tr>\n",
              "</thead>\n",
              "<tbody>\n",
              "\t<tr><th scope=row>X1</th><td>1</td><td>275</td><td>5.629091</td><td>6.785065</td><td>3</td><td>4.262443</td><td>2.9652</td><td>0</td><td>47</td><td>47</td><td>3.135055</td><td>12.75627</td><td>0.4091548</td></tr>\n",
              "</tbody>\n",
              "</table>\n"
            ],
            "text/markdown": "\nA psych: 1 × 13\n\n| <!--/--> | vars &lt;dbl&gt; | n &lt;dbl&gt; | mean &lt;dbl&gt; | sd &lt;dbl&gt; | median &lt;dbl&gt; | trimmed &lt;dbl&gt; | mad &lt;dbl&gt; | min &lt;dbl&gt; | max &lt;dbl&gt; | range &lt;dbl&gt; | skew &lt;dbl&gt; | kurtosis &lt;dbl&gt; | se &lt;dbl&gt; |\n|---|---|---|---|---|---|---|---|---|---|---|---|---|---|\n| X1 | 1 | 275 | 5.629091 | 6.785065 | 3 | 4.262443 | 2.9652 | 0 | 47 | 47 | 3.135055 | 12.75627 | 0.4091548 |\n\n",
            "text/latex": "A psych: 1 × 13\n\\begin{tabular}{r|lllllllllllll}\n  & vars & n & mean & sd & median & trimmed & mad & min & max & range & skew & kurtosis & se\\\\\n  & <dbl> & <dbl> & <dbl> & <dbl> & <dbl> & <dbl> & <dbl> & <dbl> & <dbl> & <dbl> & <dbl> & <dbl> & <dbl>\\\\\n\\hline\n\tX1 & 1 & 275 & 5.629091 & 6.785065 & 3 & 4.262443 & 2.9652 & 0 & 47 & 47 & 3.135055 & 12.75627 & 0.4091548\\\\\n\\end{tabular}\n",
            "text/plain": [
              "   vars n   mean     sd       median trimmed  mad    min max range skew    \n",
              "X1 1    275 5.629091 6.785065 3      4.262443 2.9652 0   47  47    3.135055\n",
              "   kurtosis se       \n",
              "X1 12.75627 0.4091548"
            ]
          },
          "metadata": {}
        }
      ]
    },
    {
      "cell_type": "code",
      "source": [
        "describe(dados$Convulsoes_S1)"
      ],
      "metadata": {
        "colab": {
          "base_uri": "https://localhost:8080/",
          "height": 149
        },
        "id": "enjtjyVZ74wY",
        "outputId": "f7f01f13-2211-4dcb-f6d5-362ebe263c6e"
      },
      "execution_count": null,
      "outputs": [
        {
          "output_type": "display_data",
          "data": {
            "text/html": [
              "<table class=\"dataframe\">\n",
              "<caption>A psych: 1 × 13</caption>\n",
              "<thead>\n",
              "\t<tr><th></th><th scope=col>vars</th><th scope=col>n</th><th scope=col>mean</th><th scope=col>sd</th><th scope=col>median</th><th scope=col>trimmed</th><th scope=col>mad</th><th scope=col>min</th><th scope=col>max</th><th scope=col>range</th><th scope=col>skew</th><th scope=col>kurtosis</th><th scope=col>se</th></tr>\n",
              "\t<tr><th></th><th scope=col>&lt;dbl&gt;</th><th scope=col>&lt;dbl&gt;</th><th scope=col>&lt;dbl&gt;</th><th scope=col>&lt;dbl&gt;</th><th scope=col>&lt;dbl&gt;</th><th scope=col>&lt;dbl&gt;</th><th scope=col>&lt;dbl&gt;</th><th scope=col>&lt;dbl&gt;</th><th scope=col>&lt;dbl&gt;</th><th scope=col>&lt;dbl&gt;</th><th scope=col>&lt;dbl&gt;</th><th scope=col>&lt;dbl&gt;</th><th scope=col>&lt;dbl&gt;</th></tr>\n",
              "</thead>\n",
              "<tbody>\n",
              "\t<tr><th scope=row>X1</th><td>1</td><td>275</td><td>4.545455</td><td>4.890846</td><td>3</td><td>3.529412</td><td>2.9652</td><td>0</td><td>29</td><td>29</td><td>2.297813</td><td>5.759225</td><td>0.2949291</td></tr>\n",
              "</tbody>\n",
              "</table>\n"
            ],
            "text/markdown": "\nA psych: 1 × 13\n\n| <!--/--> | vars &lt;dbl&gt; | n &lt;dbl&gt; | mean &lt;dbl&gt; | sd &lt;dbl&gt; | median &lt;dbl&gt; | trimmed &lt;dbl&gt; | mad &lt;dbl&gt; | min &lt;dbl&gt; | max &lt;dbl&gt; | range &lt;dbl&gt; | skew &lt;dbl&gt; | kurtosis &lt;dbl&gt; | se &lt;dbl&gt; |\n|---|---|---|---|---|---|---|---|---|---|---|---|---|---|\n| X1 | 1 | 275 | 4.545455 | 4.890846 | 3 | 3.529412 | 2.9652 | 0 | 29 | 29 | 2.297813 | 5.759225 | 0.2949291 |\n\n",
            "text/latex": "A psych: 1 × 13\n\\begin{tabular}{r|lllllllllllll}\n  & vars & n & mean & sd & median & trimmed & mad & min & max & range & skew & kurtosis & se\\\\\n  & <dbl> & <dbl> & <dbl> & <dbl> & <dbl> & <dbl> & <dbl> & <dbl> & <dbl> & <dbl> & <dbl> & <dbl> & <dbl>\\\\\n\\hline\n\tX1 & 1 & 275 & 4.545455 & 4.890846 & 3 & 3.529412 & 2.9652 & 0 & 29 & 29 & 2.297813 & 5.759225 & 0.2949291\\\\\n\\end{tabular}\n",
            "text/plain": [
              "   vars n   mean     sd       median trimmed  mad    min max range skew    \n",
              "X1 1    275 4.545455 4.890846 3      3.529412 2.9652 0   29  29    2.297813\n",
              "   kurtosis se       \n",
              "X1 5.759225 0.2949291"
            ]
          },
          "metadata": {}
        }
      ]
    },
    {
      "cell_type": "code",
      "source": [],
      "metadata": {
        "id": "SNXVIODD8F3r"
      },
      "execution_count": null,
      "outputs": []
    }
  ]
}